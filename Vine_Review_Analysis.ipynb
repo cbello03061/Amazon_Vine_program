{
  "nbformat": 4,
  "nbformat_minor": 0,
  "metadata": {
    "colab": {
      "name": "Vine_Review_Analysis.ipynb",
      "provenance": [],
      "collapsed_sections": [],
      "authorship_tag": "ABX9TyPSR0siuD8MDEdrDJ/yEwSl",
      "include_colab_link": true
    },
    "kernelspec": {
      "name": "python3",
      "display_name": "Python 3"
    },
    "language_info": {
      "name": "python"
    }
  },
  "cells": [
    {
      "cell_type": "markdown",
      "metadata": {
        "id": "view-in-github",
        "colab_type": "text"
      },
      "source": [
        "<a href=\"https://colab.research.google.com/github/cbello03061/Amazon_Vine_program/blob/main/Vine_Review_Analysis.ipynb\" target=\"_parent\"><img src=\"https://colab.research.google.com/assets/colab-badge.svg\" alt=\"Open In Colab\"/></a>"
      ]
    },
    {
      "cell_type": "code",
      "execution_count": 1,
      "metadata": {
        "id": "SZeFpWwlHkyT"
      },
      "outputs": [],
      "source": [
        "import os\n",
        "# Find the latest version of spark 3.0 from http://www.apache.org/dist/spark/ and enter as the spark version\n",
        "# For example:\n",
        "# spark_version = 'spark-3.0.3'\n",
        "spark_version = 'spark-3.0.3'\n",
        "os.environ['SPARK_VERSION']=spark_version\n",
        "\n",
        "# Install Spark and Java\n",
        "!apt-get update > /dev/null\n",
        "!apt-get install openjdk-11-jdk-headless -qq > /dev/null\n",
        "!wget -q http://www.apache.org/dist/spark/$SPARK_VERSION/$SPARK_VERSION-bin-hadoop2.7.tgz\n",
        "!tar xf $SPARK_VERSION-bin-hadoop2.7.tgz\n",
        "!pip install -q findspark\n",
        "\n",
        "# Set Environment Variables\n",
        "import os\n",
        "os.environ[\"JAVA_HOME\"] = \"/usr/lib/jvm/java-11-openjdk-amd64\"\n",
        "os.environ[\"SPARK_HOME\"] = f\"/content/{spark_version}-bin-hadoop2.7\"\n",
        "\n",
        "# Start a SparkSession\n",
        "import findspark\n",
        "findspark.init()"
      ]
    },
    {
      "cell_type": "code",
      "source": [
        "# Download the Postgres driver that will allow Spark to interact with Postgres.\n",
        "!wget https://jdbc.postgresql.org/download/postgresql-42.2.16.jar > /dev/null"
      ],
      "metadata": {
        "colab": {
          "base_uri": "https://localhost:8080/"
        },
        "id": "mdKIMzHlIVIM",
        "outputId": "fe454940-a582-421b-c224-b8e691aa12b1"
      },
      "execution_count": 2,
      "outputs": [
        {
          "output_type": "stream",
          "name": "stdout",
          "text": [
            "--2022-05-02 21:25:17--  https://jdbc.postgresql.org/download/postgresql-42.2.16.jar\n",
            "Resolving jdbc.postgresql.org (jdbc.postgresql.org)... 72.32.157.228, 2001:4800:3e1:1::228\n",
            "Connecting to jdbc.postgresql.org (jdbc.postgresql.org)|72.32.157.228|:443... connected.\n",
            "HTTP request sent, awaiting response... 200 OK\n",
            "Length: 1002883 (979K) [application/java-archive]\n",
            "Saving to: ‘postgresql-42.2.16.jar’\n",
            "\n",
            "postgresql-42.2.16. 100%[===================>] 979.38K  --.-KB/s    in 0.1s    \n",
            "\n",
            "2022-05-02 21:25:18 (6.52 MB/s) - ‘postgresql-42.2.16.jar’ saved [1002883/1002883]\n",
            "\n"
          ]
        }
      ]
    },
    {
      "cell_type": "code",
      "source": [
        "from pyspark.sql import SparkSession\n",
        "spark = SparkSession.builder.appName(\"M16-Amazon-Challenge\").config(\"spark.driver.extraClassPath\",\"/content/postgresql-42.2.16.jar\").getOrCreate()"
      ],
      "metadata": {
        "id": "V5YqgMnMIW2A"
      },
      "execution_count": 3,
      "outputs": []
    },
    {
      "cell_type": "code",
      "source": [
        "from pyspark import SparkFiles\n",
        "url = \"https://s3.amazonaws.com/amazon-reviews-pds/tsv/amazon_reviews_us_Toys_v1_00.tsv.gz\"\n",
        "spark.sparkContext.addFile(url)\n",
        "df = spark.read.option(\"encoding\", \"UTF-8\").csv(SparkFiles.get(\"amazon_reviews_us_Toys_v1_00.tsv.gz\"), sep=\"\\t\", header=True, inferSchema=True)\n",
        "df.show()\n"
      ],
      "metadata": {
        "id": "rUwsaypsIdOS",
        "colab": {
          "base_uri": "https://localhost:8080/"
        },
        "outputId": "d53a3ccf-5d00-422c-9eb7-08247422c046"
      },
      "execution_count": 5,
      "outputs": [
        {
          "output_type": "stream",
          "name": "stdout",
          "text": [
            "+-----------+-----------+--------------+----------+--------------+--------------------+----------------+-----------+-------------+-----------+----+-----------------+--------------------+--------------------+-----------+\n",
            "|marketplace|customer_id|     review_id|product_id|product_parent|       product_title|product_category|star_rating|helpful_votes|total_votes|vine|verified_purchase|     review_headline|         review_body|review_date|\n",
            "+-----------+-----------+--------------+----------+--------------+--------------------+----------------+-----------+-------------+-----------+----+-----------------+--------------------+--------------------+-----------+\n",
            "|         US|   18778586| RDIJS7QYB6XNR|B00EDBY7X8|     122952789|Monopoly Junior B...|            Toys|          5|            0|          0|   N|                Y|          Five Stars|        Excellent!!!| 2015-08-31|\n",
            "|         US|   24769659|R36ED1U38IELG8|B00D7JFOPC|     952062646|56 Pieces of Wood...|            Toys|          5|            0|          0|   N|                Y|Good quality trac...|Great quality woo...| 2015-08-31|\n",
            "|         US|   44331596| R1UE3RPRGCOLD|B002LHA74O|     818126353|Super Jumbo Playi...|            Toys|          2|            1|          1|   N|                Y|           Two Stars|Cards are not as ...| 2015-08-31|\n",
            "|         US|   23310293|R298788GS6I901|B00ARPLCGY|     261944918|Barbie Doll and F...|            Toys|          5|            0|          0|   N|                Y|my daughter loved...|my daughter loved...| 2015-08-31|\n",
            "|         US|   38745832|  RNX4EXOBBPN5|B00UZOPOFW|     717410439|Emazing Lights eL...|            Toys|          1|            1|          1|   N|                Y|     DONT BUY THESE!|Do not buy these!...| 2015-08-31|\n",
            "|         US|   13394189|R3BPETL222LMIM|B009B7F6CA|     873028700|Melissa & Doug Wa...|            Toys|          5|            0|          0|   N|                Y|          Five Stars|Great item. Pictu...| 2015-08-31|\n",
            "|         US|    2749569|R3SORMPJZO3F2J|B0101EHRSM|     723424342|Big Bang Cosmic P...|            Toys|          3|            2|          2|   N|                Y|         Three Stars|To keep together,...| 2015-08-31|\n",
            "|         US|   41137196|R2RDOJQ0WBZCF6|B00407S11Y|     383363775|Fun Express Insec...|            Toys|          5|            0|          0|   N|                Y|          Five Stars|I was pleased wit...| 2015-08-31|\n",
            "|         US|     433677|R2B8VBEPB4YEZ7|B00FGPU7U2|     780517568|Fisher-Price Octo...|            Toys|          5|            0|          0|   N|                Y|          Five Stars|    Children like it| 2015-08-31|\n",
            "|         US|    1297934|R1CB783I7B0U52|B0013OY0S0|     269360126|Claw Climber Goli...|            Toys|          1|            0|          1|   N|                Y|Shame on the sell...|Showed up not how...| 2015-08-31|\n",
            "|         US|   52006292| R2D90RQQ3V8LH|B00519PJTW|     493486387|100 Foot Multicol...|            Toys|          5|            0|          0|   N|                Y|          Five Stars|Really liked thes...| 2015-08-31|\n",
            "|         US|   32071052|R1Y4ZOUGFMJ327|B001TCY2DO|     459122467|Pig Jumbo Foil Ba...|            Toys|          5|            0|          0|   N|                Y|   Nice huge balloon|Nice huge balloon...| 2015-08-31|\n",
            "|         US|    7360347|R2BUV9QJI2A00X|B00DOQCWF8|     226984155|Minecraft Animal ...|            Toys|          5|            0|          1|   N|                Y|          Five Stars|          Great deal| 2015-08-31|\n",
            "|         US|   11613707| RSUHRJFJIRB3Z|B004C04I4I|     375659886|Disney Baby: Eeyo...|            Toys|          4|            0|          0|   N|                Y|          Four Stars|       As Advertised| 2015-08-31|\n",
            "|         US|   13545982|R1T96CG98BBA15|B00NWGEKBY|     933734136|Team Losi 8IGHT-E...|            Toys|          3|            2|          4|   N|                Y|... servo so expe...|Comes w a 15$ ser...| 2015-08-31|\n",
            "|         US|   43880421| R2ATXF4QQ30YW|B00000JS5S|     341842639|Hot Wheels 48- Ca...|            Toys|          5|            0|          0|   N|                Y|          Five Stars|   awesome ! Thanks!| 2015-08-31|\n",
            "|         US|    1662075|R1YS3DS218NNMD|B00XPWXYDK|     210135375|ZuZo 2.4GHz 4 CH ...|            Toys|          5|            4|          4|   N|                N|The closest relev...|I got this item f...| 2015-08-31|\n",
            "|         US|   18461411|R2SDXLTLF92O0H|B00VPXX92W|     705054378|Teenage Mutant Ni...|            Toys|          5|            0|          0|   N|                Y|          Five Stars|It was a birthday...| 2015-08-31|\n",
            "|         US|   27225859| R4R337CCDWLNG|B00YRA3H4U|     223420727|Franklin Sports M...|            Toys|          3|            0|          1|   Y|                N|Got wrong product...|Got a wrong produ...| 2015-08-31|\n",
            "|         US|   20494593|R32Z6UA4S5Q630|B009T8BSQY|     787701676|Alien Frontiers: ...|            Toys|          1|            0|          0|   N|                Y|         Overpriced.|You need expansio...| 2015-08-31|\n",
            "+-----------+-----------+--------------+----------+--------------+--------------------+----------------+-----------+-------------+-----------+----+-----------------+--------------------+--------------------+-----------+\n",
            "only showing top 20 rows\n",
            "\n"
          ]
        }
      ]
    },
    {
      "cell_type": "code",
      "source": [
        "df_filtered = df[df.total_votes > 20]\n",
        "df_filtered.show()"
      ],
      "metadata": {
        "colab": {
          "base_uri": "https://localhost:8080/"
        },
        "id": "Qxqe7dno031l",
        "outputId": "1a85ebc5-441c-4bf1-aeba-01265af62075"
      },
      "execution_count": 6,
      "outputs": [
        {
          "output_type": "stream",
          "name": "stdout",
          "text": [
            "+-----------+-----------+--------------+----------+--------------+--------------------+----------------+-----------+-------------+-----------+----+-----------------+--------------------+--------------------+-----------+\n",
            "|marketplace|customer_id|     review_id|product_id|product_parent|       product_title|product_category|star_rating|helpful_votes|total_votes|vine|verified_purchase|     review_headline|         review_body|review_date|\n",
            "+-----------+-----------+--------------+----------+--------------+--------------------+----------------+-----------+-------------+-----------+----+-----------------+--------------------+--------------------+-----------+\n",
            "|         US|   11025729| ROP6ITXO8K5V2|B00LE9MZMW|     778942419|YJ Moyu 13x13x13 ...|            Toys|          5|           23|         27|   N|                Y|          Five Stars|Great cube, moves...| 2015-08-31|\n",
            "|         US|   50123725|R3ND1LVU7AXCVF|B00LOV24VC|     363255349|Marshmallow Furni...|            Toys|          1|           21|         21|   N|                Y|If you want a qua...|i bought this cha...| 2015-08-31|\n",
            "|         US|   44167324|R1QS8AOD6HX3ED|B011BWUDGG|     501779560|Leray Self Balanc...|            Toys|          4|           59|         81|   N|                N|   Solid warranty...|[[VIDEOID:164d1b1...| 2015-08-31|\n",
            "|         US|   44759540|R3ED60RC69CCQ6|B00VJKTLMS|     917726757|Fisher-Price Nick...|            Toys|          5|           22|         23|   Y|                N|Lots of fun if yo...|This toy is a kno...| 2015-08-31|\n",
            "|         US|   13738051|R2MDI1TP46VSYD|B00IF1VYEW|     392025139|PLAYMOBIL Royal L...|            Toys|          3|            9|         21|   N|                Y|Once put together...|Once put together...| 2015-08-31|\n",
            "|         US|   43450674|R2JM687C525WR9|B00KH6BQJG|     116308869|OgoSport OgoBild ...|            Toys|          3|           33|         33|   Y|                N|Not bad, but we t...|cWe've had the Hu...| 2015-08-31|\n",
            "|         US|   38209184|R2LWX4TZ67FWPT|B00IYOCSE0|     825711912|Flexible Flyer Pl...|            Toys|          4|           50|         50|   N|                N|its a great swing...|its a great swing...| 2015-08-31|\n",
            "|         US|    7719843|R29IYHPYD14AGI|B000F3V2MW|     253592398|ALEX Toys Craft M...|            Toys|          3|           84|         84|   N|                Y|    preteen projects|I purchased this ...| 2015-08-31|\n",
            "|         US|   21817391| RRO8C1IVZMD6H|B011KD5CGW|     984270738|Playskool Heroes ...|            Toys|          5|           22|         22|   N|                N|Rescan line is sm...|When buying rescu...| 2015-08-31|\n",
            "|         US|   16379976|R2GHOWIWDVLN18|B00X9JDPYC|     681351265|UDI HD+ Drone wit...|            Toys|          1|           28|         36|   N|                Y|            One Star|The damn thing fl...| 2015-08-31|\n",
            "|         US|   28820853|R30PJ9XUHFTY5D|B003VYAJMG|     103705238|Little Tikes Bold...|            Toys|          5|           42|         43|   N|                N|My Granddaughter ...|My 18 month old g...| 2015-08-31|\n",
            "|         US|   35645071| RK12D8DTG4G82|B013JSIUQK|     709321322|Magic: the Gather...|            Toys|          5|            5|         22|   N|                N|    Sweet box to buy|That first review...| 2015-08-31|\n",
            "|         US|    9988621|R2F7D9N3SSQC20|B00YI1CHHG|     150124290|CloudPets 12in - ...|            Toys|          4|           32|         34|   N|                N|My daughter and I...|This bear is incr...| 2015-08-31|\n",
            "|         US|   27803490| RN4VK9FV66YPS|B00WJ1O76G|     701543085|LeapFrog Number L...|            Toys|          5|           29|         33|   N|                N|         LOVE THIS!!|[[VIDEOID:9050e95...| 2015-08-31|\n",
            "|         US|   50970965|R18T8SFBDXAKSY|B002TLDRI0|     198159965|JIGBOARD 1500 - J...|            Toys|          5|           95|         95|   N|                Y|Love it. With fiv...|Love it.  With fi...| 2015-08-31|\n",
            "|         US|    8109655|R36SKVJXZ0I98A|8499000606|     536492553|Syma S107/S107G R...|            Toys|          5|          124|        127|   N|                N|Nice, light weigh...|The Syma Helicopt...| 2015-08-31|\n",
            "|         US|   23579166| RJDIWMOZT0EGZ|B010TUEMOA|     477493851|Warhammer Age of ...|            Toys|          1|           11|         27|   N|                N|       waste of time|Overpriced and un...| 2015-08-31|\n",
            "|         US|     182750|R3PAIHQSO707G4|B010TU7LP2|       3331341|Exploding Kittens...|            Toys|          5|          189|        221|   N|                N|NSFW = NOT SAFE F...|Exploding Kittens...| 2015-08-31|\n",
            "|         US|    1449184|R2TETIV0IVWFSJ|B008R67UKM|     775534268|Good cosplay stra...|            Toys|          4|           80|         82|   N|                Y|and fits nicely. ...|Well constructed,...| 2015-08-31|\n",
            "|         US|    6105658|R1VBVD23GPZW0E|B00YSWUDGM|     412449765|100 Assorted Poke...|            Toys|          5|           55|         58|   N|                Y|So that was prett...|Came in a brown b...| 2015-08-31|\n",
            "+-----------+-----------+--------------+----------+--------------+--------------------+----------------+-----------+-------------+-----------+----+-----------------+--------------------+--------------------+-----------+\n",
            "only showing top 20 rows\n",
            "\n"
          ]
        }
      ]
    },
    {
      "cell_type": "code",
      "source": [
        "div_df = df_filtered[(df_filtered.helpful_votes/df_filtered.total_votes) >= 0.5]\n",
        "print(div_df.count())\n",
        "div_df.show()"
      ],
      "metadata": {
        "colab": {
          "base_uri": "https://localhost:8080/"
        },
        "id": "GJQ5c-OW1KUT",
        "outputId": "33a751e1-612d-4864-f6a3-2621e137ffcf"
      },
      "execution_count": 7,
      "outputs": [
        {
          "output_type": "stream",
          "name": "stdout",
          "text": [
            "59221\n",
            "+-----------+-----------+--------------+----------+--------------+--------------------+----------------+-----------+-------------+-----------+----+-----------------+--------------------+--------------------+-----------+\n",
            "|marketplace|customer_id|     review_id|product_id|product_parent|       product_title|product_category|star_rating|helpful_votes|total_votes|vine|verified_purchase|     review_headline|         review_body|review_date|\n",
            "+-----------+-----------+--------------+----------+--------------+--------------------+----------------+-----------+-------------+-----------+----+-----------------+--------------------+--------------------+-----------+\n",
            "|         US|   11025729| ROP6ITXO8K5V2|B00LE9MZMW|     778942419|YJ Moyu 13x13x13 ...|            Toys|          5|           23|         27|   N|                Y|          Five Stars|Great cube, moves...| 2015-08-31|\n",
            "|         US|   50123725|R3ND1LVU7AXCVF|B00LOV24VC|     363255349|Marshmallow Furni...|            Toys|          1|           21|         21|   N|                Y|If you want a qua...|i bought this cha...| 2015-08-31|\n",
            "|         US|   44167324|R1QS8AOD6HX3ED|B011BWUDGG|     501779560|Leray Self Balanc...|            Toys|          4|           59|         81|   N|                N|   Solid warranty...|[[VIDEOID:164d1b1...| 2015-08-31|\n",
            "|         US|   44759540|R3ED60RC69CCQ6|B00VJKTLMS|     917726757|Fisher-Price Nick...|            Toys|          5|           22|         23|   Y|                N|Lots of fun if yo...|This toy is a kno...| 2015-08-31|\n",
            "|         US|   43450674|R2JM687C525WR9|B00KH6BQJG|     116308869|OgoSport OgoBild ...|            Toys|          3|           33|         33|   Y|                N|Not bad, but we t...|cWe've had the Hu...| 2015-08-31|\n",
            "|         US|   38209184|R2LWX4TZ67FWPT|B00IYOCSE0|     825711912|Flexible Flyer Pl...|            Toys|          4|           50|         50|   N|                N|its a great swing...|its a great swing...| 2015-08-31|\n",
            "|         US|    7719843|R29IYHPYD14AGI|B000F3V2MW|     253592398|ALEX Toys Craft M...|            Toys|          3|           84|         84|   N|                Y|    preteen projects|I purchased this ...| 2015-08-31|\n",
            "|         US|   21817391| RRO8C1IVZMD6H|B011KD5CGW|     984270738|Playskool Heroes ...|            Toys|          5|           22|         22|   N|                N|Rescan line is sm...|When buying rescu...| 2015-08-31|\n",
            "|         US|   16379976|R2GHOWIWDVLN18|B00X9JDPYC|     681351265|UDI HD+ Drone wit...|            Toys|          1|           28|         36|   N|                Y|            One Star|The damn thing fl...| 2015-08-31|\n",
            "|         US|   28820853|R30PJ9XUHFTY5D|B003VYAJMG|     103705238|Little Tikes Bold...|            Toys|          5|           42|         43|   N|                N|My Granddaughter ...|My 18 month old g...| 2015-08-31|\n",
            "|         US|    9988621|R2F7D9N3SSQC20|B00YI1CHHG|     150124290|CloudPets 12in - ...|            Toys|          4|           32|         34|   N|                N|My daughter and I...|This bear is incr...| 2015-08-31|\n",
            "|         US|   27803490| RN4VK9FV66YPS|B00WJ1O76G|     701543085|LeapFrog Number L...|            Toys|          5|           29|         33|   N|                N|         LOVE THIS!!|[[VIDEOID:9050e95...| 2015-08-31|\n",
            "|         US|   50970965|R18T8SFBDXAKSY|B002TLDRI0|     198159965|JIGBOARD 1500 - J...|            Toys|          5|           95|         95|   N|                Y|Love it. With fiv...|Love it.  With fi...| 2015-08-31|\n",
            "|         US|    8109655|R36SKVJXZ0I98A|8499000606|     536492553|Syma S107/S107G R...|            Toys|          5|          124|        127|   N|                N|Nice, light weigh...|The Syma Helicopt...| 2015-08-31|\n",
            "|         US|     182750|R3PAIHQSO707G4|B010TU7LP2|       3331341|Exploding Kittens...|            Toys|          5|          189|        221|   N|                N|NSFW = NOT SAFE F...|Exploding Kittens...| 2015-08-31|\n",
            "|         US|    1449184|R2TETIV0IVWFSJ|B008R67UKM|     775534268|Good cosplay stra...|            Toys|          4|           80|         82|   N|                Y|and fits nicely. ...|Well constructed,...| 2015-08-31|\n",
            "|         US|    6105658|R1VBVD23GPZW0E|B00YSWUDGM|     412449765|100 Assorted Poke...|            Toys|          5|           55|         58|   N|                Y|So that was prett...|Came in a brown b...| 2015-08-31|\n",
            "|         US|   48638849|R1AJKXVHURPVCZ|B00DCENMWY|     376397735|Mice and Mystics:...|            Toys|          3|           12|         22|   N|                Y|Lacking in produc...|Keeping everythin...| 2015-08-31|\n",
            "|         US|   29775971|R32RD311POLW7G|B00IEH9FQG|     303166933|KidKraft Airplane...|            Toys|          3|           25|         27|   N|                Y|Adorable but asse...|Aesthetically, th...| 2015-08-30|\n",
            "|         US|   35208712|R1VXO073B9HOGC|B0033JB3UG|     676646525| Buttercup Dollhouse|            Toys|          4|           29|         30|   N|                Y|Cute little doll ...|You have to prep ...| 2015-08-30|\n",
            "+-----------+-----------+--------------+----------+--------------+--------------------+----------------+-----------+-------------+-----------+----+-----------------+--------------------+--------------------+-----------+\n",
            "only showing top 20 rows\n",
            "\n"
          ]
        }
      ]
    },
    {
      "cell_type": "code",
      "source": [
        "vine_program_df = div_df[div_df.verified_purchase == 'Y']\n",
        "print(vine_program_df.count())\n",
        "vine_program_df.show()"
      ],
      "metadata": {
        "colab": {
          "base_uri": "https://localhost:8080/"
        },
        "id": "o1v-iF2-1a7U",
        "outputId": "9afe18b8-5aab-4025-98fa-1df29da02e77"
      },
      "execution_count": 8,
      "outputs": [
        {
          "output_type": "stream",
          "name": "stdout",
          "text": [
            "27479\n",
            "+-----------+-----------+--------------+----------+--------------+--------------------+----------------+-----------+-------------+-----------+----+-----------------+--------------------+--------------------+-----------+\n",
            "|marketplace|customer_id|     review_id|product_id|product_parent|       product_title|product_category|star_rating|helpful_votes|total_votes|vine|verified_purchase|     review_headline|         review_body|review_date|\n",
            "+-----------+-----------+--------------+----------+--------------+--------------------+----------------+-----------+-------------+-----------+----+-----------------+--------------------+--------------------+-----------+\n",
            "|         US|   11025729| ROP6ITXO8K5V2|B00LE9MZMW|     778942419|YJ Moyu 13x13x13 ...|            Toys|          5|           23|         27|   N|                Y|          Five Stars|Great cube, moves...| 2015-08-31|\n",
            "|         US|   50123725|R3ND1LVU7AXCVF|B00LOV24VC|     363255349|Marshmallow Furni...|            Toys|          1|           21|         21|   N|                Y|If you want a qua...|i bought this cha...| 2015-08-31|\n",
            "|         US|    7719843|R29IYHPYD14AGI|B000F3V2MW|     253592398|ALEX Toys Craft M...|            Toys|          3|           84|         84|   N|                Y|    preteen projects|I purchased this ...| 2015-08-31|\n",
            "|         US|   16379976|R2GHOWIWDVLN18|B00X9JDPYC|     681351265|UDI HD+ Drone wit...|            Toys|          1|           28|         36|   N|                Y|            One Star|The damn thing fl...| 2015-08-31|\n",
            "|         US|   50970965|R18T8SFBDXAKSY|B002TLDRI0|     198159965|JIGBOARD 1500 - J...|            Toys|          5|           95|         95|   N|                Y|Love it. With fiv...|Love it.  With fi...| 2015-08-31|\n",
            "|         US|    1449184|R2TETIV0IVWFSJ|B008R67UKM|     775534268|Good cosplay stra...|            Toys|          4|           80|         82|   N|                Y|and fits nicely. ...|Well constructed,...| 2015-08-31|\n",
            "|         US|    6105658|R1VBVD23GPZW0E|B00YSWUDGM|     412449765|100 Assorted Poke...|            Toys|          5|           55|         58|   N|                Y|So that was prett...|Came in a brown b...| 2015-08-31|\n",
            "|         US|   48638849|R1AJKXVHURPVCZ|B00DCENMWY|     376397735|Mice and Mystics:...|            Toys|          3|           12|         22|   N|                Y|Lacking in produc...|Keeping everythin...| 2015-08-31|\n",
            "|         US|   29775971|R32RD311POLW7G|B00IEH9FQG|     303166933|KidKraft Airplane...|            Toys|          3|           25|         27|   N|                Y|Adorable but asse...|Aesthetically, th...| 2015-08-30|\n",
            "|         US|   35208712|R1VXO073B9HOGC|B0033JB3UG|     676646525| Buttercup Dollhouse|            Toys|          4|           29|         30|   N|                Y|Cute little doll ...|You have to prep ...| 2015-08-30|\n",
            "|         US|   15955579|R1HRS4CUK4ZJEY|B00IR6Q82S|     582942807|Little Tikes Jeep...|            Toys|          4|           27|         28|   N|                Y|You need at most ...|You need at most ...| 2015-08-30|\n",
            "|         US|   48164731|R2UOHYXU2G0LLJ|B00U5JZDG2|     362745515|Bandai Tamashii N...|            Toys|          5|           30|         30|   N|                Y|Awesome SH Figuar...|Absolutely beauti...| 2015-08-30|\n",
            "|         US|   49913238|R2KKTVXRZD5IXL|B00XSYUOY2|     112465393|8pcs/Lot STAR WAR...|            Toys|          5|           38|         39|   N|                Y|Legos by another ...|Wow.  This was ki...| 2015-08-30|\n",
            "|         US|     447608|R1CZEN81U9RBDF|B00DJFV3E0|      19539718|Little Buddy Toys...|            Toys|          5|           23|         26|   N|                Y|         Spectacular|Awsome plush reco...| 2015-08-30|\n",
            "|         US|   42611313|R3A559D78D1UBH|B00BB7YETE|      73139721|Wild Republic Cud...|            Toys|          4|           68|         69|   N|                Y|               Cute!|I'm 25 and I love...| 2015-08-30|\n",
            "|         US|   13417804| R89O98MQ1RZNK|B00FIOC7U4|     467442158|Magnetic Stick N ...|            Toys|          5|           22|         22|   N|                Y|Wonderful toy. Fu...|These are well wo...| 2015-08-30|\n",
            "|         US|   35836677|R2X5U3E4WCONNJ|B003WM6D9A|      45777736|Giant Microbes Sp...|            Toys|          4|           22|         22|   N|                Y|WAIT! DON'T BUY U...|ok....i wanted to...| 2015-08-30|\n",
            "|         US|   26953574|R3CFPXTPBL1FFM|B00WI0ASSO|     599290461|LEGO Scooby-Doo 7...|            Toys|          5|           28|         30|   N|                Y| As good as it gets!|[[VIDEOID:84c3dba...| 2015-08-29|\n",
            "|         US|     637920|R35FM7YSPHS72C|B00SCVQO9U|     727779370|Emoji Stickers 96...|            Toys|          5|           50|         51|   N|                Y|Definitely Buy th...|I'm beyond impres...| 2015-08-29|\n",
            "|         US|   17868950|R3KY0XT2V4A5EV|B00WHXP17U|     872172244|LEGO Friends Hear...|            Toys|          5|           23|         26|   N|                Y|          Five Stars|our granddaughter...| 2015-08-29|\n",
            "+-----------+-----------+--------------+----------+--------------+--------------------+----------------+-----------+-------------+-----------+----+-----------------+--------------------+--------------------+-----------+\n",
            "only showing top 20 rows\n",
            "\n"
          ]
        }
      ]
    },
    {
      "cell_type": "code",
      "source": [
        "not_vine_program_df = div_df[div_df.verified_purchase == 'N']\n",
        "print(not_vine_program_df.count())\n",
        "not_vine_program_df.show()"
      ],
      "metadata": {
        "colab": {
          "base_uri": "https://localhost:8080/"
        },
        "id": "DDi8JL0E1lL1",
        "outputId": "6a04bb71-d699-48e9-aefc-bdc8ec9b37c3"
      },
      "execution_count": 9,
      "outputs": [
        {
          "output_type": "stream",
          "name": "stdout",
          "text": [
            "31742\n",
            "+-----------+-----------+--------------+----------+--------------+--------------------+----------------+-----------+-------------+-----------+----+-----------------+--------------------+--------------------+-----------+\n",
            "|marketplace|customer_id|     review_id|product_id|product_parent|       product_title|product_category|star_rating|helpful_votes|total_votes|vine|verified_purchase|     review_headline|         review_body|review_date|\n",
            "+-----------+-----------+--------------+----------+--------------+--------------------+----------------+-----------+-------------+-----------+----+-----------------+--------------------+--------------------+-----------+\n",
            "|         US|   44167324|R1QS8AOD6HX3ED|B011BWUDGG|     501779560|Leray Self Balanc...|            Toys|          4|           59|         81|   N|                N|   Solid warranty...|[[VIDEOID:164d1b1...| 2015-08-31|\n",
            "|         US|   44759540|R3ED60RC69CCQ6|B00VJKTLMS|     917726757|Fisher-Price Nick...|            Toys|          5|           22|         23|   Y|                N|Lots of fun if yo...|This toy is a kno...| 2015-08-31|\n",
            "|         US|   43450674|R2JM687C525WR9|B00KH6BQJG|     116308869|OgoSport OgoBild ...|            Toys|          3|           33|         33|   Y|                N|Not bad, but we t...|cWe've had the Hu...| 2015-08-31|\n",
            "|         US|   38209184|R2LWX4TZ67FWPT|B00IYOCSE0|     825711912|Flexible Flyer Pl...|            Toys|          4|           50|         50|   N|                N|its a great swing...|its a great swing...| 2015-08-31|\n",
            "|         US|   21817391| RRO8C1IVZMD6H|B011KD5CGW|     984270738|Playskool Heroes ...|            Toys|          5|           22|         22|   N|                N|Rescan line is sm...|When buying rescu...| 2015-08-31|\n",
            "|         US|   28820853|R30PJ9XUHFTY5D|B003VYAJMG|     103705238|Little Tikes Bold...|            Toys|          5|           42|         43|   N|                N|My Granddaughter ...|My 18 month old g...| 2015-08-31|\n",
            "|         US|    9988621|R2F7D9N3SSQC20|B00YI1CHHG|     150124290|CloudPets 12in - ...|            Toys|          4|           32|         34|   N|                N|My daughter and I...|This bear is incr...| 2015-08-31|\n",
            "|         US|   27803490| RN4VK9FV66YPS|B00WJ1O76G|     701543085|LeapFrog Number L...|            Toys|          5|           29|         33|   N|                N|         LOVE THIS!!|[[VIDEOID:9050e95...| 2015-08-31|\n",
            "|         US|    8109655|R36SKVJXZ0I98A|8499000606|     536492553|Syma S107/S107G R...|            Toys|          5|          124|        127|   N|                N|Nice, light weigh...|The Syma Helicopt...| 2015-08-31|\n",
            "|         US|     182750|R3PAIHQSO707G4|B010TU7LP2|       3331341|Exploding Kittens...|            Toys|          5|          189|        221|   N|                N|NSFW = NOT SAFE F...|Exploding Kittens...| 2015-08-31|\n",
            "|         US|   45716675| RUB4AUWGHG16G|B00T03U0OO|     754581011|Disney Frozen Els...|            Toys|          4|           25|         27|   Y|                N|and of course lit...|This might be the...| 2015-08-30|\n",
            "|         US|   44991078|R3O5VQE1RPXQ0P|B01342CJS6|     358796938|Blade Inductrix B...|            Toys|          5|           28|         29|   N|                N|Perfect Noob Nano...|OK.  Did NOT purc...| 2015-08-30|\n",
            "|         US|   11012744| RBAU201V3NYJD|B00Q86TD9E|     430144586|Good Smile Fire E...|            Toys|          5|           56|         56|   N|                N|   She has feet now!|Bought her from G...| 2015-08-30|\n",
            "|         US|   21409774|R1LHSE5YA94WZA|B00VX9F4Q2|     504470256|Nerf Rival Apollo...|            Toys|          5|           21|         23|   N|                N|and while it's fa...|Oh boy. I was loo...| 2015-08-30|\n",
            "|         US|    8500623|R31REN9WYR976X|B012D3PN7G|     218296130|Huge Rainbow Kite...|            Toys|          5|           26|         39|   N|                N|Great for newbies...|[[VIDEOID:a5e02a4...| 2015-08-29|\n",
            "|         US|   32161329| R9Y9CBHH8P761|B014GQOP4K|     670566281|MTG Magic the Gat...|            Toys|          4|           19|         21|   N|                N|  Fun but unbalanced|I picked this up ...| 2015-08-29|\n",
            "|         US|    4071167| RFAF0HXZVXCRF|B00OACD9CU|      61034941|Set Of Ten Finger...|            Toys|          3|           27|         27|   N|                N|One issue with th...|Why this product ...| 2015-08-29|\n",
            "|         US|   31774128|R2R72L4W03VSAF|B00SJP7V96|     543167252|Disguise Master C...|            Toys|          5|           22|         25|   N|                N|This is by far ou...|ORDER THIS!!! Thi...| 2015-08-29|\n",
            "|         US|   42664715|R1L17Z9M04WVXU|B00YPOHNMK|     344457209|Click N' Play Des...|            Toys|          5|           47|         47|   N|                N|Assembly Directio...|This Click N Play...| 2015-08-29|\n",
            "|         US|     182750| RMQAY03PGTW81|1938146581|     372247246|Flip City Board Game|            Toys|          5|           23|         24|   N|                N|This micro-deckbu...|Flip City by Tast...| 2015-08-29|\n",
            "+-----------+-----------+--------------+----------+--------------+--------------------+----------------+-----------+-------------+-----------+----+-----------------+--------------------+--------------------+-----------+\n",
            "only showing top 20 rows\n",
            "\n"
          ]
        }
      ]
    },
    {
      "cell_type": "code",
      "source": [
        "five_star_paid = vine_program_df[vine_program_df.star_rating == 5].count()\n",
        "not_five_star_paid = vine_program_df[vine_program_df.star_rating != 5].count()\n",
        "percentage = (five_star_paid / not_five_star_paid) * 100\n",
        "print('Number of 5 stars: ' + str(five_star_paid), 'Percentage: ' + str(round(percentage,2)))"
      ],
      "metadata": {
        "colab": {
          "base_uri": "https://localhost:8080/"
        },
        "id": "WJayJLf01wob",
        "outputId": "26bdf31e-d053-4733-964a-871f628de372"
      },
      "execution_count": 10,
      "outputs": [
        {
          "output_type": "stream",
          "name": "stdout",
          "text": [
            "Number of 5 stars: 13320 Percentage: 94.07\n"
          ]
        }
      ]
    },
    {
      "cell_type": "code",
      "source": [
        "five_star_unpaid = not_vine_program_df[not_vine_program_df.star_rating == 5].count()\n",
        "not_five_star_unpaid = not_vine_program_df[not_vine_program_df.star_rating != 5].count()\n",
        "percentage = (five_star_unpaid / not_five_star_unpaid) * 100\n",
        "print('Number of 5 stars: ' + str(five_star_unpaid), 'Percentage: ' + str(round(percentage,2)))"
      ],
      "metadata": {
        "colab": {
          "base_uri": "https://localhost:8080/"
        },
        "id": "kYqrclFq2Ecc",
        "outputId": "d7f6fdde-1210-4a24-cfdc-80be5a826276"
      },
      "execution_count": 11,
      "outputs": [
        {
          "output_type": "stream",
          "name": "stdout",
          "text": [
            "Number of 5 stars: 15133 Percentage: 91.11\n"
          ]
        }
      ]
    }
  ]
}